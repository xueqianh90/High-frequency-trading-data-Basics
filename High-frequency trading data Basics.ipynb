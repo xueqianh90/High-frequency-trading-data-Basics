{
 "cells": [
  {
   "cell_type": "code",
   "execution_count": 1,
   "metadata": {},
   "outputs": [],
   "source": [
    "import pandas as pd\n",
    "import numpy as np\n",
    "import matplotlib.pyplot as plt\n",
    "%matplotlib inline\n",
    "\n",
    "jnj = pd.read_csv(\"TAQ_JNJ_1004_1015_2010_trading_.csv\", index_col=False, delim_whitespace=True)\n",
    "cat = pd.read_csv(\"TAQ_CAT_FEB_2010_trading_.csv\", index_col=False, delim_whitespace=True)\n"
   ]
  },
  {
   "cell_type": "code",
   "execution_count": 2,
   "metadata": {},
   "outputs": [
    {
     "name": "stdout",
     "output_type": "stream",
     "text": [
      "JNJ dataset after handeling date and time:\n"
     ]
    },
    {
     "data": {
      "text/html": [
       "<div>\n",
       "<style scoped>\n",
       "    .dataframe tbody tr th:only-of-type {\n",
       "        vertical-align: middle;\n",
       "    }\n",
       "\n",
       "    .dataframe tbody tr th {\n",
       "        vertical-align: top;\n",
       "    }\n",
       "\n",
       "    .dataframe thead th {\n",
       "        text-align: right;\n",
       "    }\n",
       "</style>\n",
       "<table border=\"1\" class=\"dataframe\">\n",
       "  <thead>\n",
       "    <tr style=\"text-align: right;\">\n",
       "      <th></th>\n",
       "      <th>date</th>\n",
       "      <th>hour</th>\n",
       "      <th>minute</th>\n",
       "      <th>second</th>\n",
       "      <th>price</th>\n",
       "      <th>volume</th>\n",
       "      <th>time</th>\n",
       "      <th>dateTime</th>\n",
       "    </tr>\n",
       "  </thead>\n",
       "  <tbody>\n",
       "    <tr>\n",
       "      <th>0</th>\n",
       "      <td>20101004</td>\n",
       "      <td>6</td>\n",
       "      <td>25</td>\n",
       "      <td>15</td>\n",
       "      <td>61.75</td>\n",
       "      <td>100</td>\n",
       "      <td>20101004 6:25:15</td>\n",
       "      <td>2010-10-04 06:25:15</td>\n",
       "    </tr>\n",
       "    <tr>\n",
       "      <th>1</th>\n",
       "      <td>20101004</td>\n",
       "      <td>8</td>\n",
       "      <td>33</td>\n",
       "      <td>19</td>\n",
       "      <td>61.56</td>\n",
       "      <td>100</td>\n",
       "      <td>20101004 8:33:19</td>\n",
       "      <td>2010-10-04 08:33:19</td>\n",
       "    </tr>\n",
       "    <tr>\n",
       "      <th>2</th>\n",
       "      <td>20101004</td>\n",
       "      <td>8</td>\n",
       "      <td>41</td>\n",
       "      <td>9</td>\n",
       "      <td>61.56</td>\n",
       "      <td>100</td>\n",
       "      <td>20101004 8:41:9</td>\n",
       "      <td>2010-10-04 08:41:09</td>\n",
       "    </tr>\n",
       "    <tr>\n",
       "      <th>3</th>\n",
       "      <td>20101004</td>\n",
       "      <td>8</td>\n",
       "      <td>48</td>\n",
       "      <td>50</td>\n",
       "      <td>61.60</td>\n",
       "      <td>100</td>\n",
       "      <td>20101004 8:48:50</td>\n",
       "      <td>2010-10-04 08:48:50</td>\n",
       "    </tr>\n",
       "    <tr>\n",
       "      <th>4</th>\n",
       "      <td>20101004</td>\n",
       "      <td>8</td>\n",
       "      <td>48</td>\n",
       "      <td>55</td>\n",
       "      <td>61.60</td>\n",
       "      <td>100</td>\n",
       "      <td>20101004 8:48:55</td>\n",
       "      <td>2010-10-04 08:48:55</td>\n",
       "    </tr>\n",
       "  </tbody>\n",
       "</table>\n",
       "</div>"
      ],
      "text/plain": [
       "       date  hour  minute  second  price  volume              time  \\\n",
       "0  20101004     6      25      15  61.75     100  20101004 6:25:15   \n",
       "1  20101004     8      33      19  61.56     100  20101004 8:33:19   \n",
       "2  20101004     8      41       9  61.56     100   20101004 8:41:9   \n",
       "3  20101004     8      48      50  61.60     100  20101004 8:48:50   \n",
       "4  20101004     8      48      55  61.60     100  20101004 8:48:55   \n",
       "\n",
       "             dateTime  \n",
       "0 2010-10-04 06:25:15  \n",
       "1 2010-10-04 08:33:19  \n",
       "2 2010-10-04 08:41:09  \n",
       "3 2010-10-04 08:48:50  \n",
       "4 2010-10-04 08:48:55  "
      ]
     },
     "metadata": {},
     "output_type": "display_data"
    }
   ],
   "source": [
    "jnj['time'] = jnj[\"date\"].map(str) + ' '+ jnj[\"hour\"].map(str)\n",
    "jnj['time'] = jnj[\"time\"].map(str) + ':'+ jnj[\"minute\"].map(str)\n",
    "jnj['time'] = jnj['time'].map(str) + ':'+ jnj[\"second\"].map(str)\n",
    "\n",
    "jnj['dateTime'] = pd.to_datetime(jnj['time'], format='%Y%m%d %H:%M:%S')\n",
    "print('JNJ dataset after handeling date and time:')\n",
    "display(jnj.head(5))\n"
   ]
  },
  {
   "cell_type": "code",
   "execution_count": 3,
   "metadata": {},
   "outputs": [
    {
     "name": "stdout",
     "output_type": "stream",
     "text": [
      "CAT dataset after handeling date and time:\n"
     ]
    },
    {
     "data": {
      "text/html": [
       "<div>\n",
       "<style scoped>\n",
       "    .dataframe tbody tr th:only-of-type {\n",
       "        vertical-align: middle;\n",
       "    }\n",
       "\n",
       "    .dataframe tbody tr th {\n",
       "        vertical-align: top;\n",
       "    }\n",
       "\n",
       "    .dataframe thead th {\n",
       "        text-align: right;\n",
       "    }\n",
       "</style>\n",
       "<table border=\"1\" class=\"dataframe\">\n",
       "  <thead>\n",
       "    <tr style=\"text-align: right;\">\n",
       "      <th></th>\n",
       "      <th>DATE</th>\n",
       "      <th>Hour</th>\n",
       "      <th>Min</th>\n",
       "      <th>Sec</th>\n",
       "      <th>PRICE</th>\n",
       "      <th>SIZE</th>\n",
       "      <th>time</th>\n",
       "      <th>dateTime</th>\n",
       "    </tr>\n",
       "  </thead>\n",
       "  <tbody>\n",
       "    <tr>\n",
       "      <th>0</th>\n",
       "      <td>20100201</td>\n",
       "      <td>8</td>\n",
       "      <td>11</td>\n",
       "      <td>42</td>\n",
       "      <td>52.52</td>\n",
       "      <td>100</td>\n",
       "      <td>20100201 8:11:42</td>\n",
       "      <td>2010-02-01 08:11:42</td>\n",
       "    </tr>\n",
       "    <tr>\n",
       "      <th>1</th>\n",
       "      <td>20100201</td>\n",
       "      <td>8</td>\n",
       "      <td>11</td>\n",
       "      <td>42</td>\n",
       "      <td>52.52</td>\n",
       "      <td>200</td>\n",
       "      <td>20100201 8:11:42</td>\n",
       "      <td>2010-02-01 08:11:42</td>\n",
       "    </tr>\n",
       "    <tr>\n",
       "      <th>2</th>\n",
       "      <td>20100201</td>\n",
       "      <td>8</td>\n",
       "      <td>11</td>\n",
       "      <td>43</td>\n",
       "      <td>52.50</td>\n",
       "      <td>200</td>\n",
       "      <td>20100201 8:11:43</td>\n",
       "      <td>2010-02-01 08:11:43</td>\n",
       "    </tr>\n",
       "    <tr>\n",
       "      <th>3</th>\n",
       "      <td>20100201</td>\n",
       "      <td>8</td>\n",
       "      <td>38</td>\n",
       "      <td>50</td>\n",
       "      <td>52.24</td>\n",
       "      <td>3149</td>\n",
       "      <td>20100201 8:38:50</td>\n",
       "      <td>2010-02-01 08:38:50</td>\n",
       "    </tr>\n",
       "    <tr>\n",
       "      <th>4</th>\n",
       "      <td>20100201</td>\n",
       "      <td>8</td>\n",
       "      <td>39</td>\n",
       "      <td>3</td>\n",
       "      <td>52.65</td>\n",
       "      <td>100</td>\n",
       "      <td>20100201 8:39:3</td>\n",
       "      <td>2010-02-01 08:39:03</td>\n",
       "    </tr>\n",
       "  </tbody>\n",
       "</table>\n",
       "</div>"
      ],
      "text/plain": [
       "       DATE  Hour  Min  Sec  PRICE  SIZE              time            dateTime\n",
       "0  20100201     8   11   42  52.52   100  20100201 8:11:42 2010-02-01 08:11:42\n",
       "1  20100201     8   11   42  52.52   200  20100201 8:11:42 2010-02-01 08:11:42\n",
       "2  20100201     8   11   43  52.50   200  20100201 8:11:43 2010-02-01 08:11:43\n",
       "3  20100201     8   38   50  52.24  3149  20100201 8:38:50 2010-02-01 08:38:50\n",
       "4  20100201     8   39    3  52.65   100   20100201 8:39:3 2010-02-01 08:39:03"
      ]
     },
     "metadata": {},
     "output_type": "display_data"
    }
   ],
   "source": [
    "cat['time'] = cat[\"DATE\"].map(str) + ' '+ cat[\"Hour\"].map(str)\n",
    "cat['time'] = cat[\"time\"].map(str) + ':'+ cat[\"Min\"].map(str)\n",
    "cat['time'] = cat['time'].map(str) + ':'+ cat[\"Sec\"].map(str)\n",
    "\n",
    "cat['dateTime'] = pd.to_datetime(cat['time'], format='%Y%m%d %H:%M:%S')\n",
    "print('CAT dataset after handeling date and time:')\n",
    "display(cat.head(5))"
   ]
  },
  {
   "cell_type": "code",
   "execution_count": 4,
   "metadata": {},
   "outputs": [
    {
     "name": "stdout",
     "output_type": "stream",
     "text": [
      "JNJ dataset after handeling normal trading window:\n"
     ]
    },
    {
     "data": {
      "text/html": [
       "<div>\n",
       "<style scoped>\n",
       "    .dataframe tbody tr th:only-of-type {\n",
       "        vertical-align: middle;\n",
       "    }\n",
       "\n",
       "    .dataframe tbody tr th {\n",
       "        vertical-align: top;\n",
       "    }\n",
       "\n",
       "    .dataframe thead th {\n",
       "        text-align: right;\n",
       "    }\n",
       "</style>\n",
       "<table border=\"1\" class=\"dataframe\">\n",
       "  <thead>\n",
       "    <tr style=\"text-align: right;\">\n",
       "      <th></th>\n",
       "      <th>date</th>\n",
       "      <th>hour</th>\n",
       "      <th>minute</th>\n",
       "      <th>second</th>\n",
       "      <th>price</th>\n",
       "      <th>volume</th>\n",
       "      <th>time</th>\n",
       "      <th>dateTime</th>\n",
       "    </tr>\n",
       "  </thead>\n",
       "  <tbody>\n",
       "    <tr>\n",
       "      <th>0</th>\n",
       "      <td>20101004</td>\n",
       "      <td>9</td>\n",
       "      <td>30</td>\n",
       "      <td>0</td>\n",
       "      <td>61.54</td>\n",
       "      <td>281</td>\n",
       "      <td>20101004 9:30:0</td>\n",
       "      <td>2010-10-04 09:30:00</td>\n",
       "    </tr>\n",
       "    <tr>\n",
       "      <th>1</th>\n",
       "      <td>20101004</td>\n",
       "      <td>9</td>\n",
       "      <td>30</td>\n",
       "      <td>0</td>\n",
       "      <td>61.54</td>\n",
       "      <td>281</td>\n",
       "      <td>20101004 9:30:0</td>\n",
       "      <td>2010-10-04 09:30:00</td>\n",
       "    </tr>\n",
       "    <tr>\n",
       "      <th>2</th>\n",
       "      <td>20101004</td>\n",
       "      <td>9</td>\n",
       "      <td>30</td>\n",
       "      <td>1</td>\n",
       "      <td>61.62</td>\n",
       "      <td>100</td>\n",
       "      <td>20101004 9:30:1</td>\n",
       "      <td>2010-10-04 09:30:01</td>\n",
       "    </tr>\n",
       "    <tr>\n",
       "      <th>3</th>\n",
       "      <td>20101004</td>\n",
       "      <td>9</td>\n",
       "      <td>30</td>\n",
       "      <td>1</td>\n",
       "      <td>61.62</td>\n",
       "      <td>100</td>\n",
       "      <td>20101004 9:30:1</td>\n",
       "      <td>2010-10-04 09:30:01</td>\n",
       "    </tr>\n",
       "    <tr>\n",
       "      <th>4</th>\n",
       "      <td>20101004</td>\n",
       "      <td>9</td>\n",
       "      <td>30</td>\n",
       "      <td>3</td>\n",
       "      <td>61.53</td>\n",
       "      <td>100</td>\n",
       "      <td>20101004 9:30:3</td>\n",
       "      <td>2010-10-04 09:30:03</td>\n",
       "    </tr>\n",
       "  </tbody>\n",
       "</table>\n",
       "</div>"
      ],
      "text/plain": [
       "       date  hour  minute  second  price  volume             time  \\\n",
       "0  20101004     9      30       0  61.54     281  20101004 9:30:0   \n",
       "1  20101004     9      30       0  61.54     281  20101004 9:30:0   \n",
       "2  20101004     9      30       1  61.62     100  20101004 9:30:1   \n",
       "3  20101004     9      30       1  61.62     100  20101004 9:30:1   \n",
       "4  20101004     9      30       3  61.53     100  20101004 9:30:3   \n",
       "\n",
       "             dateTime  \n",
       "0 2010-10-04 09:30:00  \n",
       "1 2010-10-04 09:30:00  \n",
       "2 2010-10-04 09:30:01  \n",
       "3 2010-10-04 09:30:01  \n",
       "4 2010-10-04 09:30:03  "
      ]
     },
     "metadata": {},
     "output_type": "display_data"
    }
   ],
   "source": [
    "def normalTrading(dataset):\n",
    "    mid = dataset.loc[9<dataset['hour']]\n",
    "    mid = mid.loc[mid['hour']<16]\n",
    "\n",
    "    dataset9 = dataset.loc[9==dataset['hour']]\n",
    "    dataset9 = dataset9.loc[dataset9['minute']>=30]\n",
    "\n",
    "    dataset16 = dataset.loc[dataset['hour']==16]\n",
    "    dataset16 = dataset16.loc[dataset16['minute']==0]\n",
    "    dataset16 = dataset16.loc[dataset16['second']==0]\n",
    "\n",
    "    dataset_norm = dataset9.append(mid, ignore_index=True)\n",
    "    dataset_norm = dataset_norm.append(dataset16, ignore_index=True)\n",
    "    \n",
    "    return dataset_norm\n",
    "\n",
    "print('JNJ dataset after handeling normal trading window:')\n",
    "jnj_norm = normalTrading(jnj)\n",
    "jnj_norm.to_csv('TAQ_JNJ_1004_1015_2010_trading_normal_hours.csv', index=False)\n",
    "display(jnj_norm.head())\n"
   ]
  },
  {
   "cell_type": "code",
   "execution_count": 5,
   "metadata": {},
   "outputs": [
    {
     "name": "stdout",
     "output_type": "stream",
     "text": [
      "CAT dataset after handeling normal trading window:\n"
     ]
    },
    {
     "data": {
      "text/html": [
       "<div>\n",
       "<style scoped>\n",
       "    .dataframe tbody tr th:only-of-type {\n",
       "        vertical-align: middle;\n",
       "    }\n",
       "\n",
       "    .dataframe tbody tr th {\n",
       "        vertical-align: top;\n",
       "    }\n",
       "\n",
       "    .dataframe thead th {\n",
       "        text-align: right;\n",
       "    }\n",
       "</style>\n",
       "<table border=\"1\" class=\"dataframe\">\n",
       "  <thead>\n",
       "    <tr style=\"text-align: right;\">\n",
       "      <th></th>\n",
       "      <th>DATE</th>\n",
       "      <th>Hour</th>\n",
       "      <th>Min</th>\n",
       "      <th>Sec</th>\n",
       "      <th>PRICE</th>\n",
       "      <th>SIZE</th>\n",
       "      <th>time</th>\n",
       "      <th>dateTime</th>\n",
       "    </tr>\n",
       "  </thead>\n",
       "  <tbody>\n",
       "    <tr>\n",
       "      <th>0</th>\n",
       "      <td>20100201</td>\n",
       "      <td>9</td>\n",
       "      <td>30</td>\n",
       "      <td>0</td>\n",
       "      <td>52.82</td>\n",
       "      <td>4528</td>\n",
       "      <td>20100201 9:30:0</td>\n",
       "      <td>2010-02-01 09:30:00</td>\n",
       "    </tr>\n",
       "    <tr>\n",
       "      <th>1</th>\n",
       "      <td>20100201</td>\n",
       "      <td>9</td>\n",
       "      <td>30</td>\n",
       "      <td>0</td>\n",
       "      <td>52.82</td>\n",
       "      <td>4528</td>\n",
       "      <td>20100201 9:30:0</td>\n",
       "      <td>2010-02-01 09:30:00</td>\n",
       "    </tr>\n",
       "    <tr>\n",
       "      <th>2</th>\n",
       "      <td>20100201</td>\n",
       "      <td>9</td>\n",
       "      <td>30</td>\n",
       "      <td>4</td>\n",
       "      <td>52.85</td>\n",
       "      <td>5</td>\n",
       "      <td>20100201 9:30:4</td>\n",
       "      <td>2010-02-01 09:30:04</td>\n",
       "    </tr>\n",
       "    <tr>\n",
       "      <th>3</th>\n",
       "      <td>20100201</td>\n",
       "      <td>9</td>\n",
       "      <td>30</td>\n",
       "      <td>8</td>\n",
       "      <td>52.83</td>\n",
       "      <td>83300</td>\n",
       "      <td>20100201 9:30:8</td>\n",
       "      <td>2010-02-01 09:30:08</td>\n",
       "    </tr>\n",
       "    <tr>\n",
       "      <th>4</th>\n",
       "      <td>20100201</td>\n",
       "      <td>9</td>\n",
       "      <td>30</td>\n",
       "      <td>8</td>\n",
       "      <td>52.86</td>\n",
       "      <td>200</td>\n",
       "      <td>20100201 9:30:8</td>\n",
       "      <td>2010-02-01 09:30:08</td>\n",
       "    </tr>\n",
       "  </tbody>\n",
       "</table>\n",
       "</div>"
      ],
      "text/plain": [
       "       DATE  Hour  Min  Sec  PRICE   SIZE             time            dateTime\n",
       "0  20100201     9   30    0  52.82   4528  20100201 9:30:0 2010-02-01 09:30:00\n",
       "1  20100201     9   30    0  52.82   4528  20100201 9:30:0 2010-02-01 09:30:00\n",
       "2  20100201     9   30    4  52.85      5  20100201 9:30:4 2010-02-01 09:30:04\n",
       "3  20100201     9   30    8  52.83  83300  20100201 9:30:8 2010-02-01 09:30:08\n",
       "4  20100201     9   30    8  52.86    200  20100201 9:30:8 2010-02-01 09:30:08"
      ]
     },
     "metadata": {},
     "output_type": "display_data"
    }
   ],
   "source": [
    "def CATnormalTrading(dataset):\n",
    "    mid = dataset.loc[9<dataset['Hour']]\n",
    "    mid = mid.loc[mid['Hour']<16]\n",
    "\n",
    "    dataset9 = dataset.loc[9==dataset['Hour']]\n",
    "    dataset9 = dataset9.loc[dataset9['Min']>=30]\n",
    "\n",
    "    dataset16 = dataset.loc[dataset['Hour']==16]\n",
    "    dataset16 = dataset16.loc[dataset16['Min']==0]\n",
    "    dataset16 = dataset16.loc[dataset16['Sec']==0]\n",
    "\n",
    "    dataset_norm = dataset9.append(mid, ignore_index=True)\n",
    "    dataset_norm = dataset_norm.append(dataset16, ignore_index=True)\n",
    "    \n",
    "    return dataset_norm\n",
    "\n",
    "print('CAT dataset after handeling normal trading window:')\n",
    "cat_norm = CATnormalTrading(cat)\n",
    "cat_norm.to_csv('TAQ_CAT_Feb_2010_trading_normal_hours.csv', index=False)\n",
    "display(cat_norm.head())\n",
    "\n"
   ]
  },
  {
   "cell_type": "code",
   "execution_count": 6,
   "metadata": {},
   "outputs": [],
   "source": [
    "def First5000transactions(dataset, price, vol):\n",
    "\n",
    "    f5000 = dataset.iloc[:5000,:]\n",
    "    print('***First 5000 transactions***')\n",
    "    f5000.plot(x='time', y=price)\n",
    "    f5000.plot(x='time', y=vol)\n",
    "\n",
    "def Last5000transactions(dataset, price, vol):\n",
    "    nl5000 = dataset.shape[0]-5000\n",
    "    l5000 = dataset.iloc[nl5000:,:]\n",
    "    print('\\n***Last 5000 transactions***')\n",
    "    l5000.plot(x='time', y=price)\n",
    "    l5000.plot(x='time', y=vol)\n",
    "    "
   ]
  },
  {
   "cell_type": "code",
   "execution_count": 7,
   "metadata": {},
   "outputs": [
    {
     "name": "stdout",
     "output_type": "stream",
     "text": [
      "Visualize the first 5000 transactions from JNJ dataset:\n",
      "***First 5000 transactions***\n"
     ]
    },
    {
     "data": {
      "image/png": "[encoded data removed]",
      "text/plain": [
       "<Figure size 432x288 with 1 Axes>"
      ]
     },
     "metadata": {
      "needs_background": "light"
     },
     "output_type": "display_data"
    },
    {
     "data": {
      "image/png": "[encoded data removed]",
      "text/plain": [
       "<Figure size 432x288 with 1 Axes>"
      ]
     },
     "metadata": {
      "needs_background": "light"
     },
     "output_type": "display_data"
    }
   ],
   "source": [
    "print('Visualize the first 5000 transactions from JNJ dataset:')\n",
    "First5000transactions(jnj_norm, 'price', 'volume')\n"
   ]
  },
  {
   "cell_type": "code",
   "execution_count": 8,
   "metadata": {},
   "outputs": [
    {
     "name": "stdout",
     "output_type": "stream",
     "text": [
      "Visualize the last 5000 transactions from JNJ dataset:\n",
      "\n",
      "***Last 5000 transactions***\n"
     ]
    },
    {
     "data": {
      "image/png": "[encoded data removed]",
      "text/plain": [
       "<Figure size 432x288 with 1 Axes>"
      ]
     },
     "metadata": {
      "needs_background": "light"
     },
     "output_type": "display_data"
    },
    {
     "data": {
      "image/png": "[encoded data removed]",
      "text/plain": [
       "<Figure size 432x288 with 1 Axes>"
      ]
     },
     "metadata": {
      "needs_background": "light"
     },
     "output_type": "display_data"
    }
   ],
   "source": [
    "print('Visualize the last 5000 transactions from JNJ dataset:')\n",
    "Last5000transactions(jnj_norm, 'price', 'volume')"
   ]
  },
  {
   "cell_type": "code",
   "execution_count": 9,
   "metadata": {},
   "outputs": [
    {
     "name": "stdout",
     "output_type": "stream",
     "text": [
      "Visualize the first 5000 transactions from CAT dataset:\n",
      "***First 5000 transactions***\n"
     ]
    },
    {
     "data": {
      "image/png": "[encoded data removed]",
      "text/plain": [
       "<Figure size 432x288 with 1 Axes>"
      ]
     },
     "metadata": {
      "needs_background": "light"
     },
     "output_type": "display_data"
    },
    {
     "data": {
      "image/png": "[encoded data removed]",
      "text/plain": [
       "<Figure size 432x288 with 1 Axes>"
      ]
     },
     "metadata": {
      "needs_background": "light"
     },
     "output_type": "display_data"
    }
   ],
   "source": [
    "print('Visualize the first 5000 transactions from CAT dataset:')\n",
    "First5000transactions(cat_norm, 'PRICE', 'SIZE')\n"
   ]
  },
  {
   "cell_type": "code",
   "execution_count": 10,
   "metadata": {},
   "outputs": [
    {
     "name": "stdout",
     "output_type": "stream",
     "text": [
      "Visualize the last 5000 transactions from CAT dataset:\n",
      "\n",
      "***Last 5000 transactions***\n"
     ]
    },
    {
     "data": {
      "image/png": "[encoded data removed]",
      "text/plain": [
       "<Figure size 432x288 with 1 Axes>"
      ]
     },
     "metadata": {
      "needs_background": "light"
     },
     "output_type": "display_data"
    },
    {
     "data": {
      "image/png": "[encoded data removed]",
      "text/plain": [
       "<Figure size 432x288 with 1 Axes>"
      ]
     },
     "metadata": {
      "needs_background": "light"
     },
     "output_type": "display_data"
    }
   ],
   "source": [
    "print('Visualize the last 5000 transactions from CAT dataset:')\n",
    "Last5000transactions(cat_norm, 'PRICE', 'SIZE')"
   ]
  },
  {
   "cell_type": "code",
   "execution_count": 11,
   "metadata": {},
   "outputs": [
    {
     "name": "stdout",
     "output_type": "stream",
     "text": [
      "Visualize price change of JNJ dataset:\n",
      "There are total 114805 transitions with price change\n"
     ]
    },
    {
     "data": {
      "image/png": "[encoded data removed]",
      "text/plain": [
       "<Figure size 432x288 with 1 Axes>"
      ]
     },
     "metadata": {
      "needs_background": "light"
     },
     "output_type": "display_data"
    }
   ],
   "source": [
    "def plot_price_change(dataset, price):\n",
    "\n",
    "    price_change_lst = []\n",
    "    count = 0\n",
    "    for i in range(1, dataset.shape[0]):\n",
    "        diff = dataset[price][i] - dataset[price][i-1]\n",
    "        price_change_lst.append(diff)\n",
    "        if diff != 0:\n",
    "            count += 1\n",
    "    print('There are total '+str(count)+ ' transitions with price change')\n",
    "    \n",
    "    plt.plot(price_change_lst)\n",
    "    plt.show()\n",
    "    \n",
    "print('Visualize price change of JNJ dataset:')\n",
    "plot_price_change(jnj_norm, 'price')"
   ]
  },
  {
   "cell_type": "code",
   "execution_count": 12,
   "metadata": {},
   "outputs": [
    {
     "name": "stdout",
     "output_type": "stream",
     "text": [
      "Visualize price change of CAT dataset:\n",
      "There are total 318033 transitions with price change\n"
     ]
    },
    {
     "data": {
      "image/png": "[encoded data removed]",
      "text/plain": [
       "<Figure size 432x288 with 1 Axes>"
      ]
     },
     "metadata": {
      "needs_background": "light"
     },
     "output_type": "display_data"
    }
   ],
   "source": [
    "print('Visualize price change of CAT dataset:')\n",
    "plot_price_change(cat_norm, 'PRICE')"
   ]
  },
  {
   "cell_type": "code",
   "execution_count": 13,
   "metadata": {},
   "outputs": [],
   "source": [
    "def time_itervals(df, file, price, normal):\n",
    "    interval = ['5min', '10min', '30min', '60min']\n",
    "    intervals = ['5', '10', '30', '60']\n",
    "\n",
    "    for n in range(len(interval)):\n",
    "        intv = 'data_'+str(interval[n])\n",
    "        intv = df.groupby(pd.Grouper(key='dateTime',\\\n",
    "                                        freq=interval[n])).aggregate(np.mean)\n",
    "        \n",
    "        dataset = normal(intv)\n",
    "        S_i = dataset[price]\n",
    "        S_i_minus_1 = dataset[price].shift(1)\n",
    "        dataset[\"U_sequence\"]=np.log(S_i/S_i_minus_1)\n",
    "        filename = file+intervals[n]+'_min_trading_unit.csv'\n",
    "        dataset.to_csv(filename)\n",
    "        print('\\nPerformance on '+filename)\n",
    "        print('The dimension of the dataset:', dataset.shape)\n",
    "        num = dataset.shape[0]\n",
    "\n",
    "        s = np.sqrt(np.sum(dataset['U_sequence']**2)/(num-1)-\\\n",
    "                      np.sum(dataset['U_sequence']**2)/(num*(num-1)))\n",
    "\n",
    "        print('Section volatility:', s)\n",
    "\n",
    "        r_volatility = np.sum(dataset['U_sequence']**2)\n",
    "        print('Realized volatility:', r_volatility)\n",
    "\n",
    "        skewness = num*(np.sum((dataset['U_sequence']-\\\n",
    "                                np.mean(dataset['U_sequence']))\\\n",
    "                               **3))/((num-1)*(num-2)* (s**3))\n",
    "        print('Skewness:', skewness)\n",
    "        kurtosis = np.sum((dataset['U_sequence']-\\\n",
    "                           np.mean(dataset['U_sequence']))**4)/(num*(s**4))-3\n",
    "        print('Kurtosis:', kurtosis)\n",
    "\n"
   ]
  },
  {
   "cell_type": "code",
   "execution_count": 14,
   "metadata": {},
   "outputs": [
    {
     "name": "stdout",
     "output_type": "stream",
     "text": [
      "***Visualize price change of JNJ dataset***\n",
      "\n",
      "Performance on TAQ_JNJ_1004_1015_2010_5_min_trading_unit.csv\n",
      "The dimension of the dataset: (790, 7)\n",
      "Section volatility: 0.0019110944961042158\n",
      "Realized volatility: 0.0028853029167014627\n",
      "Skewness: -7.492637535311781\n",
      "Kurtosis: 156.2926470013325\n",
      "\n",
      "Performance on TAQ_JNJ_1004_1015_2010_10_min_trading_unit.csv\n",
      "The dimension of the dataset: (400, 7)\n",
      "Section volatility: 0.0026964691200160717\n",
      "Realized volatility: 0.002908378286080099\n",
      "Skewness: -5.421905240736304\n",
      "Kurtosis: 78.3679877666303\n",
      "\n",
      "Performance on TAQ_JNJ_1004_1015_2010_30_min_trading_unit.csv\n",
      "The dimension of the dataset: (140, 7)\n",
      "Section volatility: 0.004591465452183642\n",
      "Realized volatility: 0.002951417699803431\n",
      "Skewness: -3.7370655826861454\n",
      "Kurtosis: 29.12263112031411\n",
      "\n",
      "Performance on TAQ_JNJ_1004_1015_2010_60_min_trading_unit.csv\n",
      "The dimension of the dataset: (80, 7)\n",
      "Section volatility: 0.006083036148529551\n",
      "Realized volatility: 0.002960266302745379\n",
      "Skewness: -2.886324447521437\n",
      "Kurtosis: 15.705678599500711\n"
     ]
    }
   ],
   "source": [
    "print('***Visualize price change of JNJ dataset***')\n",
    "time_itervals(jnj_norm, 'TAQ_JNJ_1004_1015_2010_', 'price', normalTrading)"
   ]
  },
  {
   "cell_type": "code",
   "execution_count": 15,
   "metadata": {},
   "outputs": [
    {
     "name": "stdout",
     "output_type": "stream",
     "text": [
      "***Visualize price change of CAT dataset***\n",
      "\n",
      "Performance on TAQ_CAT_FEB_2010_5_min_trading_unit.csv\n",
      "The dimension of the dataset: (1501, 7)\n",
      "Section volatility: 0.004925446132118746\n",
      "Realized volatility: 0.03641428942020567\n",
      "Skewness: -2.556111605058597\n",
      "Kurtosis: 98.63871752527625\n",
      "\n",
      "Performance on TAQ_CAT_FEB_2010_10_min_trading_unit.csv\n",
      "The dimension of the dataset: (760, 7)\n",
      "Section volatility: 0.006906539577983847\n",
      "Realized volatility: 0.03625221959611555\n",
      "Skewness: -1.7973189879337408\n",
      "Kurtosis: 50.24308425055118\n",
      "\n",
      "Performance on TAQ_CAT_FEB_2010_30_min_trading_unit.csv\n",
      "The dimension of the dataset: (266, 7)\n",
      "Section volatility: 0.011552580330438348\n",
      "Realized volatility: 0.03550092186946745\n",
      "Skewness: -0.8656067080200323\n",
      "Kurtosis: 15.590162267884441\n",
      "\n",
      "Performance on TAQ_CAT_FEB_2010_60_min_trading_unit.csv\n",
      "The dimension of the dataset: (152, 7)\n",
      "Section volatility: 0.015138476760707845\n",
      "Realized volatility: 0.03483436875244271\n",
      "Skewness: -0.6488532825486875\n",
      "Kurtosis: 7.694939871135599\n"
     ]
    }
   ],
   "source": [
    "print('***Visualize price change of CAT dataset***')\n",
    "time_itervals(cat_norm, 'TAQ_CAT_FEB_2010_', 'PRICE', CATnormalTrading)"
   ]
  },
  {
   "cell_type": "code",
   "execution_count": null,
   "metadata": {},
   "outputs": [],
   "source": []
  }
 ],
 "metadata": {
  "kernelspec": {
   "display_name": "Python 3",
   "language": "python",
   "name": "python3"
  },
  "language_info": {
   "codemirror_mode": {
    "name": "ipython",
    "version": 3
   },
   "file_extension": ".py",
   "mimetype": "text/x-python",
   "name": "python",
   "nbconvert_exporter": "python",
   "pygments_lexer": "ipython3",
   "version": "3.7.0"
  }
 },
 "nbformat": 4,
 "nbformat_minor": 2
}
